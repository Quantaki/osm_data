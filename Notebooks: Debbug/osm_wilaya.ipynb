{
 "cells": [
  {
   "cell_type": "code",
   "execution_count": 1,
   "metadata": {},
   "outputs": [],
   "source": [
    "import os, sys, gc\n",
    "import numpy as np\n",
    "import pandas as pd\n",
    "import geopandas as gpd\n",
    "import matplotlib.pyplot as plt\n",
    "import requests\n",
    "import sqlite3\n",
    "from shapely import wkt\n",
    "from shapely.geometry import Polygon, Point\n",
    "from shapely import make_valid\n",
    "from shapely.errors import GEOSException\n",
    "\n",
    "pd.set_option('display.max_columns', 100)\n",
    "from warnings import filterwarnings\n",
    "filterwarnings('ignore')"
   ]
  },
  {
   "cell_type": "code",
   "execution_count": 2,
   "metadata": {},
   "outputs": [],
   "source": [
    "def size_sqlite_table(table_name, con) : \n",
    "    cursor = con.cursor()\n",
    "    cursor.execute(f\"SELECT * FROM {table_name};\")\n",
    "    results = cursor.fetchall()\n",
    "    size = len(results)\n",
    "    del cursor\n",
    "    _ = gc.collect()\n",
    "    return size"
   ]
  },
  {
   "cell_type": "code",
   "execution_count": 3,
   "metadata": {},
   "outputs": [],
   "source": [
    "def gpd_osm_within_wilaya(osm_table_name, wilaya, chunks = 2) : \n",
    "    \n",
    "    # Create connexion with db\n",
    "    sql_con_wilayats = sqlite3.connect(\"/home/betorcha/Ml_projects/Osm/data/dz_decoupage.db\")\n",
    "    sql_con_osm = sqlite3.connect(\"/home/betorcha/Ml_projects/Osm/data/algeria_osm.sqlite\")\n",
    "\n",
    "    # first get the size of table\n",
    "    table_size = size_sqlite_table(osm_table_name, sql_con_osm)\n",
    "    print(f\"Size of table {osm_table_name} : {table_size}\")\n",
    "\n",
    "    # filter wilaya of interest\n",
    "    dz = pd.read_sql('select * from all_wilayas;', con = sql_con_wilayats)\n",
    "    w_geom = dz.loc[dz['name'] == wilaya, 'WKT_GEOMETRY']\n",
    "    w_geom = wkt.loads(w_geom.values[0])\n",
    "\n",
    "    # Load chunk of data (virtual memory efficciency)\n",
    "    \n",
    "    lim = int(table_size/chunks)\n",
    "    off = 0\n",
    "    data = []\n",
    "\n",
    "    for chunk in range(chunks) : \n",
    "        \n",
    "        df = pd.read_sql(f'select * from {osm_table_name} limit {lim} OFFSET {off};', sql_con_osm)\n",
    "        #print('df shape', df.shape)\n",
    "\n",
    "        # is in w_geom?\n",
    "        geoser = gpd.GeoSeries.from_wkt(df['WKT_GEOMETRY'])\n",
    "        \n",
    "        try : \n",
    "            mask_w = geoser.within(w_geom)\n",
    "        except GEOSException as e : \n",
    "            print(\"GEOSException handled : make_valid geometry is ongoing..\")\n",
    "            geoser = geoser.apply(lambda geom: make_valid(geom) if not geom.is_valid else geom)\n",
    "            print(\"make_valid geometry completed\")\n",
    "            mask_w = geoser.within(w_geom)\n",
    "\n",
    "        # keep df of wilaya of interest\n",
    "        df = df[mask_w]\n",
    "        data.append(df)\n",
    "\n",
    "        off += int(table_size/chunks)\n",
    "\n",
    "        if chunk == chunks-2 : \n",
    "            lim = table_size - int(table_size/chunks) * (chunks -1) \n",
    "        \n",
    "        print(f\"Chunk {chunk} successfuly loaded\")\n",
    "\n",
    "    # convert dataframe into geodataframe\n",
    "    data = pd.concat(data, axis= 0, ignore_index = True)\n",
    "    #data['geometry'] = gpd.GeoSeries.from_wkt(data['WKT_GEOMETRY'])\n",
    "    #data = data.drop('WKT_GEOMETRY', axis = 1)\n",
    "    #gdf = gpd.GeoDataFrame(data, geometry='geometry')\n",
    "    #gdf.crs = 4326\n",
    "#\n",
    "    #del data, df, geoser, mask_w\n",
    "    #_ = gc.collect()\n",
    "    #\n",
    "    #print(f\"geopandas for {wilaya} of shape {gdf.shape} : operation completed!\")\n",
    "\n",
    "    return data"
   ]
  },
  {
   "cell_type": "code",
   "execution_count": 5,
   "metadata": {},
   "outputs": [
    {
     "name": "stdout",
     "output_type": "stream",
     "text": [
      "Size of table lines : 719364\n",
      "Chunk 0 successfuly loaded\n",
      "Chunk 1 successfuly loaded\n",
      "Chunk 2 successfuly loaded\n",
      "Size of table points : 486788\n",
      "Chunk 0 successfuly loaded\n",
      "Chunk 1 successfuly loaded\n",
      "Chunk 2 successfuly loaded\n",
      "Size of table multilinestrings : 470\n",
      "Chunk 0 successfuly loaded\n",
      "Chunk 1 successfuly loaded\n",
      "Chunk 2 successfuly loaded\n",
      "Size of table multipolygons : 3272288\n",
      "GEOSException handled : make_valid geometry is ongoing..\n",
      "make_valid geometry completed\n",
      "Chunk 0 successfuly loaded\n",
      "Chunk 1 successfuly loaded\n",
      "Chunk 2 successfuly loaded\n",
      "Size of table other_relations : 5874\n",
      "Chunk 0 successfuly loaded\n",
      "Chunk 1 successfuly loaded\n",
      "Chunk 2 successfuly loaded\n"
     ]
    }
   ],
   "source": [
    "wilaya = 'Djelfa'\n",
    "tables = ['lines', 'points', 'multilinestrings', 'multipolygons', 'other_relations']\n",
    "\n",
    "df_wilaya = [] \n",
    "\n",
    "for osm_table_name  in tables : \n",
    "    df = gpd_osm_within_wilaya(osm_table_name, wilaya)\n",
    "    df_wilaya.append(df)"
   ]
  },
  {
   "cell_type": "code",
   "execution_count": null,
   "metadata": {},
   "outputs": [],
   "source": [
    "df_wilaya = pd.concat(df_wilaya, ignore_index=True)\n",
    "df_wilaya.head()"
   ]
  },
  {
   "cell_type": "code",
   "execution_count": 15,
   "metadata": {},
   "outputs": [
    {
     "data": {
      "text/plain": [
       "28945"
      ]
     },
     "execution_count": 15,
     "metadata": {},
     "output_type": "execute_result"
    }
   ],
   "source": [
    "conn = sqlite3.connect(f'/home/betorcha/Ml_projects/Osm/osm_wilayats_sqlite/osm_{wilaya}.db')\n",
    "df_wilaya.to_sql(f'osm_{wilaya}', conn, if_exists = 'replace')"
   ]
  },
  {
   "cell_type": "code",
   "execution_count": 3,
   "metadata": {},
   "outputs": [
    {
     "data": {
      "text/plain": [
       "[('osm_Djelfa',)]"
      ]
     },
     "execution_count": 3,
     "metadata": {},
     "output_type": "execute_result"
    }
   ],
   "source": [
    "con_djelfa = sqlite3.connect(\"/home/betorcha/Ml_projects/Osm/osm_wilayats_sqlite/osm_Djelfa.db\")\n",
    "cursor = con_djelfa.cursor()\n",
    "\n",
    "query = \"\"\"\n",
    "SELECT \n",
    "    name\n",
    "FROM \n",
    "    sqlite_master\n",
    "WHERE \n",
    "    type ='table' AND \n",
    "    name NOT LIKE 'sqlite_%';\n",
    "    \"\"\"\n",
    "\n",
    "tables = cursor.execute(query)\n",
    "tables.fetchall()"
   ]
  },
  {
   "cell_type": "code",
   "execution_count": 5,
   "metadata": {},
   "outputs": [],
   "source": [
    "df = pd.read_sql('select * from osm_Djelfa;', con = con_djelfa)"
   ]
  },
  {
   "cell_type": "code",
   "execution_count": 6,
   "metadata": {},
   "outputs": [
    {
     "name": "stdout",
     "output_type": "stream",
     "text": [
      "<class 'pandas.core.frame.DataFrame'>\n",
      "RangeIndex: 28945 entries, 0 to 28944\n",
      "Data columns (total 35 columns):\n",
      " #   Column        Non-Null Count  Dtype  \n",
      "---  ------        --------------  -----  \n",
      " 0   ogc_fid       28945 non-null  int64  \n",
      " 1   WKT_GEOMETRY  28945 non-null  object \n",
      " 2   osm_id        19981 non-null  object \n",
      " 3   name          2722 non-null   object \n",
      " 4   highway       13051 non-null  object \n",
      " 5   waterway      137 non-null    object \n",
      " 6   aerialway     0 non-null      object \n",
      " 7   barrier       275 non-null    object \n",
      " 8   man_made      170 non-null    object \n",
      " 9   railway       120 non-null    object \n",
      " 10  z_order       14198 non-null  float64\n",
      " 11  other_tags    12902 non-null  object \n",
      " 12  ref           1 non-null      object \n",
      " 13  address       0 non-null      object \n",
      " 14  is_in         0 non-null      object \n",
      " 15  place         115 non-null    object \n",
      " 16  type          123 non-null    object \n",
      " 17  osm_way_id    8964 non-null   object \n",
      " 18  aeroway       16 non-null     object \n",
      " 19  amenity       467 non-null    object \n",
      " 20  admin_level   46 non-null     object \n",
      " 21  boundary      46 non-null     object \n",
      " 22  building      7061 non-null   object \n",
      " 23  craft         1 non-null      object \n",
      " 24  geological    0 non-null      object \n",
      " 25  historic      6 non-null      object \n",
      " 26  land_area     0 non-null      object \n",
      " 27  landuse       711 non-null    object \n",
      " 28  leisure       222 non-null    object \n",
      " 29  military      4 non-null      object \n",
      " 30  natural       549 non-null    object \n",
      " 31  office        60 non-null     object \n",
      " 32  shop          16 non-null     object \n",
      " 33  sport         65 non-null     object \n",
      " 34  tourism       21 non-null     object \n",
      "dtypes: float64(1), int64(1), object(33)\n",
      "memory usage: 7.7+ MB\n"
     ]
    }
   ],
   "source": [
    "df.info()"
   ]
  },
  {
   "cell_type": "code",
   "execution_count": null,
   "metadata": {},
   "outputs": [],
   "source": []
  }
 ],
 "metadata": {
  "kernelspec": {
   "display_name": "geopandas_jupyter",
   "language": "python",
   "name": "python3"
  },
  "language_info": {
   "codemirror_mode": {
    "name": "ipython",
    "version": 3
   },
   "file_extension": ".py",
   "mimetype": "text/x-python",
   "name": "python",
   "nbconvert_exporter": "python",
   "pygments_lexer": "ipython3",
   "version": "3.9.17"
  },
  "orig_nbformat": 4
 },
 "nbformat": 4,
 "nbformat_minor": 2
}
